{
    "cells": [
        {
            "cell_type": "markdown",
            "metadata": {
                "collapsed": true
            },
            "source": "## Description of the Problem\n\nI live in Nashville, Tennessee and will soon move to New York City, specifically Manhattan. I do not know which neighborhood I would like to live in, but I do know I would like to live in a neighborhood with close access to public transit and other ammenities such as restaurants, bars, music venues, and shops. \n\nThe criteria I am searching for is something that is within one mile of a subway station and the rent is no more than $5,000 per month. "
        },
        {
            "cell_type": "markdown",
            "metadata": {},
            "source": "## How the data will be used\n\nI need to collect geospatial data and other descriptions for several fields: neighborhoods within Manhattan, subway stations, apartments and their monthly rent prices, and restaurants/venues in various neighborhoods.\n\nResources used:\n    Neighborhoods in Manhattan: collect data similar to how neighborhood information was created in the \"Clustering Toronto\" lab. \n    Subway stations: Use of both Wikipedia and Google Maps to compile a \"more complete\" list of all of the subway stations.\n        https://en.wikipedia.org/wiki/List_of_New_York_City_Subway_stations_in_Manhattan\n        https://www.google.com/maps/search/manhattan+subway+stations/@40.7837749,-74.0237901,12z/data=!3m1!4b1\n    Apartments: RentManhattan.com is used, then use the filtered search results to create a .csv file that will be used to analyze apartments.\n        https://www.realtor.com/apartments/Manhattan_NY/price-na-5000\n        http://www.rentmanhattan.com/index.cfm?page=search&state=results\n        \nI will then use Foursquare data to map and cluster neighborhoods based on the criteria listed above. I may need to create several maps and cross-reference them to find a single answer, or maybe the five best locations. I plan to use tags so that the maps are more user-friendly and can be used for other cities, if necessary in the future."
        }
    ],
    "metadata": {
        "kernelspec": {
            "display_name": "Python 3.6",
            "language": "python",
            "name": "python3"
        },
        "language_info": {
            "codemirror_mode": {
                "name": "ipython",
                "version": 3
            },
            "file_extension": ".py",
            "mimetype": "text/x-python",
            "name": "python",
            "nbconvert_exporter": "python",
            "pygments_lexer": "ipython3",
            "version": "3.6.9"
        }
    },
    "nbformat": 4,
    "nbformat_minor": 1
}